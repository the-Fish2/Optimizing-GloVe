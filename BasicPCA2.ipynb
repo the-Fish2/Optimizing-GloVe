{
 "cells": [
  {
   "cell_type": "code",
   "execution_count": 1,
   "metadata": {},
   "outputs": [
    {
     "name": "stdout",
     "output_type": "stream",
     "text": [
      "File Exists\n",
      "KeyedVectors<vector_size=300, 3000000 keys>\n"
     ]
    }
   ],
   "source": [
    "import os\n",
    "\n",
    "if not {\"word2vec.model\", \"word2vec.model.vectors.npy\"}.issubset(set(os.listdir())):\n",
    "    # Get the pretrained Google Word2Vec dataset\n",
    "    # This might take a couple minutes\n",
    "    print(\"Downloading Google word2vec dataset...\")\n",
    "\n",
    "    import gensim.downloader\n",
    "    wv = gensim.downloader.load(\"word2vec-google-news-300\")\n",
    "    wv.save(\"./word2vec.model\")\n",
    "\n",
    "    print(\"Download complete.\")\n",
    "\n",
    "print(\"File Exists\")\n",
    "\n",
    "from gensim.models import KeyedVectors\n",
    "wv = KeyedVectors.load(\"word2vec.model\", mmap=\"r\")\n",
    "print(wv)"
   ]
  },
  {
   "cell_type": "code",
   "execution_count": 2,
   "metadata": {},
   "outputs": [],
   "source": [
    "import numpy as np\n",
    "\n",
    "x = []\n",
    "for i in range(300):\n",
    "    x.append(wv[i])\n",
    "\n",
    "# x = np.array([])\n",
    "# for i in range(300):\n",
    "#     np.append(x, wv[i])"
   ]
  },
  {
   "cell_type": "code",
   "execution_count": 4,
   "metadata": {},
   "outputs": [
    {
     "name": "stdout",
     "output_type": "stream",
     "text": [
      "0\n",
      "300\n",
      "151\n",
      "300\n",
      "226\n",
      "300\n",
      "264\n",
      "300\n",
      "283\n",
      "300\n",
      "292\n",
      "300\n",
      "297\n",
      "300\n",
      "299\n",
      "300\n",
      "300\n",
      "300\n",
      "Too many/too few dimensions to visualize\n"
     ]
    }
   ],
   "source": [
    "import numpy as np\n",
    "import matplotlib.pyplot as plt\n",
    "from sklearn import decomposition\n",
    "from sklearn import datasets\n",
    "import array as arr\n",
    "\n",
    "def dataAnalysis(dim, data):\n",
    "    pca = decomposition.PCA(n_components=int(dim))\n",
    "    pca.fit(data)\n",
    "    return pca.transform(data)\n",
    "\n",
    "def findDim(data, start=0, end=300):\n",
    "    print(start)\n",
    "    print(end)\n",
    "    if start >= end:\n",
    "        return end\n",
    "    else:\n",
    "        mid = (start + end)//2\n",
    "        if not playable(mid, data):\n",
    "            return findDim(data, mid + 1, end)\n",
    "        else:\n",
    "            return findDim(data, start, mid-1)\n",
    "    #sort the components in the order of necessity and then truncate to a few !!!\n",
    "\n",
    "    #pca.transform() mid\n",
    "    #basically store largest array, truncate if amt is <\n",
    "    #and then also use current components \n",
    "\n",
    "    #binsearch\n",
    "    #if 'playable' - run function - then halt search\n",
    "    #call data analysis on dim indefinite with given data\n",
    "\n",
    "def playable(dim, data):\n",
    "    y = dataAnalysis(dim, data)\n",
    "    #figure out AI later\n",
    "    if dim == 2:\n",
    "        return True\n",
    "    else:\n",
    "        return False\n",
    "\n",
    "def visualize(dim, data):\n",
    "    data = np.array(data)\n",
    "    if dim == 3 or dim == 2:\n",
    "        fig = plt.figure()\n",
    "        plt.clf()\n",
    "\n",
    "        if dim == 3:\n",
    "            ax = fig.add_subplot(projection = \"3d\") #this is rectilinear, 3d, etc. projection= \"3d\"\n",
    "        elif dim == 2:\n",
    "            ax = fig.add_subplot(projection = \"rectilinear\")\n",
    "        \n",
    "        ax.set_position([0, 0, 0.95, 1])\n",
    "        plt.cla()\n",
    "\n",
    "        if dim == 3:\n",
    "            ax.scatter(data[:, 0], data[:, 1], data[:, 2])\n",
    "        elif dim == 2:\n",
    "            ax.scatter(data[:, 0], data[:, 1])\n",
    "\n",
    "        plt.show()\n",
    "    else:\n",
    "        print(\"Too many/too few dimensions to visualize\")\n",
    "        #https://matplotlib.org/stable/api/projections_api.html#module-matplotlib.projections\n",
    "\n",
    "#setting up plot\n",
    "#data collection\n",
    "m = findDim(x)\n",
    "visualize(m, x)\n",
    "\n",
    "#print(\"check1\")\n",
    "#actual decomposition\n",
    "#len(x[0]) = upper bound\n",
    "#print(\"check2\")\n",
    "#visualize(dimensions, x)\n",
    "#print(\"check3\")\n",
    "#plt.plot(x)\n",
    "#plot is an additional plot (like the add subplot is unnecessary): reason for issue: was overriding previous plot\n",
    "#however this is merely adding the terms\n",
    "#need to display pca on plt\n",
    "\n",
    "#math ee - perhaps describe how to do it with gradient function and the like to pick a random dimension\n",
    "#instead of going down one dimension at a time\n",
    "# : D D D D D \n"
   ]
  },
  {
   "cell_type": "code",
   "execution_count": 8,
   "metadata": {},
   "outputs": [
    {
     "data": {
      "image/png": "[encoded data removed]",
      "text/plain": [
       "<Figure size 432x288 with 1 Axes>"
      ]
     },
     "metadata": {
      "needs_background": "light"
     },
     "output_type": "display_data"
    }
   ],
   "source": [
    "z = dataAnalysis(2, x)\n",
    "visualize(2, z)"
   ]
  }
 ],
 "metadata": {
  "kernelspec": {
   "display_name": "Python 3.10.5 64-bit (windows store)",
   "language": "python",
   "name": "python3"
  },
  "language_info": {
   "codemirror_mode": {
    "name": "ipython",
    "version": 3
   },
   "file_extension": ".py",
   "mimetype": "text/x-python",
   "name": "python",
   "nbconvert_exporter": "python",
   "pygments_lexer": "ipython3",
   "version": "3.10.5"
  },
  "orig_nbformat": 4,
  "vscode": {
   "interpreter": {
    "hash": "5f07e8f80a78d731554c2ce7ed8433d0fa1e00c779c09dd1ced00d3c38371f3b"
   }
  }
 },
 "nbformat": 4,
 "nbformat_minor": 2
}
